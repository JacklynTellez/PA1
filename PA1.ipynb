{
 "cells": [
  {
   "cell_type": "markdown",
   "id": "d98f64c0",
   "metadata": {},
   "source": [
    "# Programming Assignment"
   ]
  },
  {
   "cell_type": "markdown",
   "id": "b9670af9",
   "metadata": {},
   "source": [
    "# Jacklyn Tellez\n",
    "## Version 1\n",
    "## Fall 2021"
   ]
  },
  {
   "cell_type": "code",
   "execution_count": 4,
   "id": "6efbf27b",
   "metadata": {},
   "outputs": [
    {
     "name": "stdout",
     "output_type": "stream",
     "text": [
      "Enter a floating point number: 26.4\n"
     ]
    }
   ],
   "source": [
    "integer1= float(input(\"Enter a floating point number: \"))"
   ]
  },
  {
   "cell_type": "code",
   "execution_count": 8,
   "id": "81e52a17",
   "metadata": {},
   "outputs": [
    {
     "name": "stdout",
     "output_type": "stream",
     "text": [
      "Enter an integer: 13\n"
     ]
    }
   ],
   "source": [
    "integer2=int(input(\"Enter an integer: \"))"
   ]
  },
  {
   "cell_type": "code",
   "execution_count": 15,
   "id": "20870dad",
   "metadata": {},
   "outputs": [
    {
     "name": "stdout",
     "output_type": "stream",
     "text": [
      "The sum is 39.4\n"
     ]
    }
   ],
   "source": [
    "print('The sum is', integer1+integer2)"
   ]
  },
  {
   "cell_type": "code",
   "execution_count": 16,
   "id": "ed02ce62",
   "metadata": {},
   "outputs": [
    {
     "name": "stdout",
     "output_type": "stream",
     "text": [
      "The difference is 13.399999999999999\n"
     ]
    }
   ],
   "source": [
    "print('The difference is', integer1-integer2)"
   ]
  },
  {
   "cell_type": "code",
   "execution_count": 17,
   "id": "bf22ef98",
   "metadata": {},
   "outputs": [
    {
     "name": "stdout",
     "output_type": "stream",
     "text": [
      "The product is 343.2\n"
     ]
    }
   ],
   "source": [
    "print('The product is', integer1*integer2)"
   ]
  },
  {
   "cell_type": "code",
   "execution_count": 18,
   "id": "c982f155",
   "metadata": {},
   "outputs": [
    {
     "name": "stdout",
     "output_type": "stream",
     "text": [
      "The quotient is 2.0307692307692307\n"
     ]
    }
   ],
   "source": [
    "print('The quotient is', integer1/integer2)"
   ]
  },
  {
   "cell_type": "code",
   "execution_count": 12,
   "id": "de04873c",
   "metadata": {},
   "outputs": [
    {
     "data": {
      "text/plain": [
       "float"
      ]
     },
     "execution_count": 12,
     "metadata": {},
     "output_type": "execute_result"
    }
   ],
   "source": [
    "type(integer1)"
   ]
  },
  {
   "cell_type": "code",
   "execution_count": 14,
   "id": "cf650ea2",
   "metadata": {},
   "outputs": [
    {
     "name": "stdout",
     "output_type": "stream",
     "text": [
      "The type for the result is <class 'float'>\n"
     ]
    }
   ],
   "source": [
    "print('The type for the result is', type(integer1))"
   ]
  },
  {
   "cell_type": "code",
   "execution_count": null,
   "id": "7a7ae862",
   "metadata": {},
   "outputs": [],
   "source": []
  }
 ],
 "metadata": {
  "kernelspec": {
   "display_name": "Python 3",
   "language": "python",
   "name": "python3"
  },
  "language_info": {
   "codemirror_mode": {
    "name": "ipython",
    "version": 3
   },
   "file_extension": ".py",
   "mimetype": "text/x-python",
   "name": "python",
   "nbconvert_exporter": "python",
   "pygments_lexer": "ipython3",
   "version": "3.8.8"
  }
 },
 "nbformat": 4,
 "nbformat_minor": 5
}
